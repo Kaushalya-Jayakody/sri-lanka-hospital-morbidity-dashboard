{
  "nbformat": 4,
  "nbformat_minor": 0,
  "metadata": {
    "colab": {
      "provenance": [],
      "authorship_tag": "ABX9TyOSgMsLX9mmHypdWwsPNyaw",
      "include_colab_link": true
    },
    "kernelspec": {
      "name": "python3",
      "display_name": "Python 3"
    },
    "language_info": {
      "name": "python"
    }
  },
  "cells": [
    {
      "cell_type": "markdown",
      "metadata": {
        "id": "view-in-github",
        "colab_type": "text"
      },
      "source": [
        "<a href=\"https://colab.research.google.com/github/Kaushalya-Jayakody/sri-lanka-hospital-morbidity-dashboard/blob/main/Data_Preprocessing.ipynb\" target=\"_parent\"><img src=\"https://colab.research.google.com/assets/colab-badge.svg\" alt=\"Open In Colab\"/></a>"
      ]
    },
    {
      "cell_type": "code",
      "execution_count": 1,
      "metadata": {
        "id": "jXdjpGGwCVgb"
      },
      "outputs": [],
      "source": [
        "import pandas as pd"
      ]
    },
    {
      "cell_type": "code",
      "source": [
        "#Load the Excel file\n",
        "file_path = \"Indoor morbidity and mortality report -live discharges - 2006 - 2013.xlsx\"\n",
        "df = pd.read_excel(file_path, sheet_name=\"Data\")"
      ],
      "metadata": {
        "id": "k5tgzwNFCdza"
      },
      "execution_count": 2,
      "outputs": []
    },
    {
      "cell_type": "code",
      "source": [
        "#Set proper column names using the first row of data\n",
        "new_columns = df.iloc[0].tolist()\n",
        "\n",
        "#Keep proper names for first 2 columns\n",
        "new_columns[0:2] = [\"Disease\", \"Sex\"]\n",
        "df.columns = new_columns"
      ],
      "metadata": {
        "id": "MoOAPxdfCgpy"
      },
      "execution_count": 3,
      "outputs": []
    },
    {
      "cell_type": "code",
      "source": [
        "#Drop the first row (used as column names)\n",
        "df = df.drop(index=0).reset_index(drop=True)"
      ],
      "metadata": {
        "id": "VPjd-NMUCotZ"
      },
      "execution_count": 4,
      "outputs": []
    },
    {
      "cell_type": "code",
      "source": [
        "#Forward-fill missing disease names\n",
        "df[\"Disease\"] = df[\"Disease\"].fillna(method=\"ffill\")"
      ],
      "metadata": {
        "colab": {
          "base_uri": "https://localhost:8080/"
        },
        "id": "C5Kmuz4fCuNy",
        "outputId": "02d99270-cb01-4af7-88ff-756d628b9450"
      },
      "execution_count": 5,
      "outputs": [
        {
          "output_type": "stream",
          "name": "stderr",
          "text": [
            "<ipython-input-5-418d28bde0cf>:2: FutureWarning: Series.fillna with 'method' is deprecated and will raise in a future version. Use obj.ffill() or obj.bfill() instead.\n",
            "  df[\"Disease\"] = df[\"Disease\"].fillna(method=\"ffill\")\n"
          ]
        }
      ]
    },
    {
      "cell_type": "code",
      "source": [
        "#Convert all age group columns to numeric\n",
        "age_columns = df.columns[2:]  # All except Disease and Sex\n",
        "for col in age_columns:\n",
        "    df[col] = pd.to_numeric(df[col], errors=\"coerce\")"
      ],
      "metadata": {
        "id": "NmZAz1WMCyEi"
      },
      "execution_count": 6,
      "outputs": []
    },
    {
      "cell_type": "code",
      "source": [
        "#Export the cleaned and reshaped data\n",
        "df.to_csv(\"cleaned_morbidity_data_wide.csv\", index=False)"
      ],
      "metadata": {
        "id": "ByT49ezVDB1L"
      },
      "execution_count": 13,
      "outputs": []
    },
    {
      "cell_type": "code",
      "source": [
        "#Print preview\n",
        "print(\"Preprocessing complete. Preview of long format:\")\n",
        "print(df_long.head())"
      ],
      "metadata": {
        "colab": {
          "base_uri": "https://localhost:8080/"
        },
        "id": "_tTUJyQWFOmK",
        "outputId": "176621e3-b389-4639-b053-e0de35db644a"
      },
      "execution_count": 14,
      "outputs": [
        {
          "output_type": "stream",
          "name": "stdout",
          "text": [
            "Preprocessing complete. Preview of long format:\n",
            "                                Disease     Sex Age_Group  Count\n",
            "0                         Cholera (A00)    Male        <1      0\n",
            "1  Typhoid and para typhoid fever (A01)    Male        <1     16\n",
            "2  Typhoid and para typhoid fever (A01)  Female        <1      9\n",
            "3                     Shigellosis (A03)    Male        <1    181\n",
            "4                     Shigellosis (A03)  Female        <1    138\n"
          ]
        }
      ]
    }
  ]
}